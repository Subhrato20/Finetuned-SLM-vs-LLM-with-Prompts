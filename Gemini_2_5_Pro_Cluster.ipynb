{
  "nbformat": 4,
  "nbformat_minor": 0,
  "metadata": {
    "colab": {
      "provenance": []
    },
    "kernelspec": {
      "name": "python3",
      "display_name": "Python 3"
    },
    "language_info": {
      "name": "python"
    }
  },
  "cells": [
    {
      "cell_type": "code",
      "source": [
        "import pandas as pd\n"
      ],
      "metadata": {
        "id": "TGNA2Mgpr44G"
      },
      "execution_count": 1,
      "outputs": []
    },
    {
      "cell_type": "code",
      "source": [
        "import pandas as pd"
      ],
      "metadata": {
        "id": "Ek09DyRbr2id"
      },
      "execution_count": 12,
      "outputs": []
    },
    {
      "cell_type": "code",
      "source": [
        "df_sample = pd.read_csv('/content/test_samples.csv')"
      ],
      "metadata": {
        "id": "YIuKanMetzxe"
      },
      "execution_count": 2,
      "outputs": []
    },
    {
      "cell_type": "code",
      "execution_count": 4,
      "metadata": {
        "id": "etuWlJV4p5tb"
      },
      "outputs": [],
      "source": [
        "from openai import OpenAI\n"
      ]
    },
    {
      "cell_type": "code",
      "source": [
        "def get_tool_schema():\n",
        "    return [\n",
        "        {\n",
        "            \"type\": \"function\",\n",
        "            \"function\": {\n",
        "                \"name\": \"classify_substance\",\n",
        "                \"description\": \"Classifies a given comment.\",\n",
        "                \"parameters\": {\n",
        "                    \"type\": \"object\",\n",
        "                    \"properties\": {\n",
        "                        \"cluster\": {\n",
        "                            \"type\": \"string\",\n",
        "                            \"description\": \"The cluster label(s) for the comment.\"\n",
        "                        }\n",
        "                    },\n",
        "                    \"required\": [\"cluster\"]\n",
        "                }\n",
        "            }\n",
        "        }\n",
        "    ]\n"
      ],
      "metadata": {
        "id": "CKivI_cVtEqk"
      },
      "execution_count": 5,
      "outputs": []
    },
    {
      "cell_type": "code",
      "source": [
        "sys_message = \"\"\"\n",
        "\n",
        "You are an AI toxicity classification engine. Your task is to read a user's input and assign it exactly one label from a predefined set of categories. Follow these instructions carefully:\n",
        "\n",
        "1. Classification Categories:\n",
        "   - toxic: General hostile, vulgar, or hateful language that is offensive but not highly destructive (e.g. insults, casual profanity).\n",
        "   - severe_toxic: Extremely abusive or hateful language that explicitly encourages violence or extreme demeaning of a protected group.\n",
        "   - obscene: Language or content that is sexually explicit, graphic, or pornographic in nature.\n",
        "   - threat: Direct or veiled statements of intent to inflict harm or violence on a target.\n",
        "   - insult: Derogatory remarks aimed at humiliating or belittling the target without necessarily calling for violence.\n",
        "   - identity_hate: Hostile or demeaning language specifically targeting a protected characteristic (e.g. race, religion, gender, sexual orientation).\n",
        "\n",
        "2. Classification Instructions:\n",
        "   - Select exactly one label from [\"toxic\", \"severe_toxic\", \"obscene\", \"threat\", \"insult\", \"identity_hate\"].\n",
        "   - If the content could fall under more than one category, choose the single most specific or severe label.\n",
        "   - If the input contains no toxicity or hateful content, classify it as \"none\".\n",
        "\n",
        "3. User Input:\n",
        "<user_input>\n",
        "{{USER_INPUT}}\n",
        "</user_input>\n",
        "\n",
        "4. Output Instructions:\n",
        "   - Provide your classification as a single word, with no additional text or punctuation.\n",
        "   - Your response must be one of the following: \"toxic\", \"severe_toxic\", \"obscene\", \"threat\", \"insult\", \"identity_hate\", or \"none\".\n",
        "\n",
        "Classify the user input now:\n",
        "<classification>\n",
        "\n",
        "\"\"\""
      ],
      "metadata": {
        "id": "55k8O05WtMXP"
      },
      "execution_count": 10,
      "outputs": []
    },
    {
      "cell_type": "code",
      "source": [
        "import asyncio\n",
        "import pandas as pd\n",
        "import json\n",
        "import aiofiles\n",
        "from openai import AsyncOpenAI\n",
        "\n",
        "async_client = AsyncOpenAI()\n",
        "\n",
        "\n",
        "async def get_cluster_from_llm(substance, system_message, model=\"gemini-2.5-pro-preview-03-25\"):\n",
        "    if pd.isna(substance) or not str(substance).strip():\n",
        "        return \"NA\"\n",
        "\n",
        "    user_message = f\"which Cluster it goes to: {substance}\"\n",
        "\n",
        "    try:\n",
        "        response = await async_client.chat.completions.create(\n",
        "            model=model,\n",
        "            messages=[\n",
        "                {\"role\": \"system\", \"content\": system_message},\n",
        "                {\"role\": \"user\", \"content\": user_message}\n",
        "            ],\n",
        "            tools=get_tool_schema(),\n",
        "            tool_choice=\"auto\",\n",
        "            temperature = 0.4\n",
        "        )\n",
        "\n",
        "        tool_calls = response.choices[0].message.tool_calls\n",
        "        if tool_calls and len(tool_calls) > 0:\n",
        "            tool_response = tool_calls[0].function.arguments\n",
        "            return json.loads(tool_response)[\"cluster\"]\n",
        "\n",
        "        assistant_response = response.choices[0].message.content\n",
        "        if assistant_response:\n",
        "            try:\n",
        "                return json.loads(assistant_response).get(\"cluster\", \"NA\")\n",
        "            except json.JSONDecodeError:\n",
        "                return assistant_response.strip()\n",
        "        else:\n",
        "            return \"NA\"\n",
        "\n",
        "    except Exception as e:\n",
        "        return \"NA\"\n",
        "\n",
        "\n",
        "async def process_dataframe(df, system_message, output_file):\n",
        "    tasks = []\n",
        "    for idx, row in df.iterrows():\n",
        "        tasks.append(get_cluster_from_llm(row[\"comment_text\"], system_message))\n",
        "\n",
        "    results = await asyncio.gather(*tasks)\n",
        "    df[\"cluster\"] = results\n",
        "\n",
        "    async with aiofiles.open(output_file, mode='w') as f:\n",
        "        await f.write(df.to_csv(index=False))\n",
        "\n",
        "\n",
        "\n"
      ],
      "metadata": {
        "id": "gPMJN1IfC1rh"
      },
      "execution_count": 7,
      "outputs": []
    },
    {
      "cell_type": "code",
      "source": [
        "import nest_asyncio\n",
        "import asyncio\n",
        "nest_asyncio.apply()"
      ],
      "metadata": {
        "id": "koZ3HJPL8jg5"
      },
      "execution_count": 8,
      "outputs": []
    },
    {
      "cell_type": "code",
      "source": [
        "# Usage\n",
        "system_message = sys_message\n",
        "df_sample = pd.read_csv(\"test_samples.csv\")\n",
        "output_file = \"gemini_test_results.csv\"\n",
        "\n",
        "await process_dataframe(df_sample, system_message, output_file)"
      ],
      "metadata": {
        "id": "4FHBcbV-wUOJ"
      },
      "execution_count": 11,
      "outputs": []
    },
    {
      "cell_type": "code",
      "source": [
        "# output_file = \"gemini_test_results.csv\"\n",
        "# df_sample.to_csv(output_file, index=False)"
      ],
      "metadata": {
        "id": "BLoWAjlTwwYW"
      },
      "execution_count": null,
      "outputs": []
    },
    {
      "cell_type": "code",
      "source": [
        "import pandas as pd\n",
        "\n",
        "samples = pd.read_csv(\"test_samples.csv\")\n",
        "labels  = pd.read_csv(\"test_labels.csv\")\n",
        "\n",
        "merged = samples.merge(labels, on=\"id\", how=\"left\")\n",
        "\n",
        "print(merged.head())\n",
        "merged.to_csv(\"test_samples_with_labels.csv\", index=False)"
      ],
      "metadata": {
        "colab": {
          "base_uri": "https://localhost:8080/"
        },
        "id": "vjunEbRKiCHT",
        "outputId": "c938de57-75c1-4e0d-dd7f-65944eabbb58"
      },
      "execution_count": 16,
      "outputs": [
        {
          "output_type": "stream",
          "name": "stdout",
          "text": [
            "                 id                                       comment_text  toxic  \\\n",
            "0  d4ede52e6fc315a2  == Sky city == \\n\\n Hello, \\n\\n I noticed that...      0   \n",
            "1  345bb5c81a8a6797  \" \\n\\n \"\"Specifically, Allied forces suffered ...      0   \n",
            "2  73ef403fa5a095e6  \" \\n You know what, I think you're just insecu...     -1   \n",
            "3  d5290e73cf136173  \" \\n\\n == LOL == \\n\\n LOLLOLOLOLOOLOLLOLOLOLLO...     -1   \n",
            "4  d4911d1fd9989582  he is not a bad guy he is a sexy guy and his b...     -1   \n",
            "\n",
            "   severe_toxic  obscene  threat  insult  identity_hate  \n",
            "0             0        0       0       0              0  \n",
            "1             0        0       0       0              0  \n",
            "2            -1       -1      -1      -1             -1  \n",
            "3            -1       -1      -1      -1             -1  \n",
            "4            -1       -1      -1      -1             -1  \n"
          ]
        }
      ]
    },
    {
      "cell_type": "markdown",
      "source": [
        "rename cluster column to toxicity"
      ],
      "metadata": {
        "id": "w_BbzcRjjHTk"
      }
    },
    {
      "cell_type": "code",
      "source": [
        "\n",
        "pred = pd.read_csv(\"gemini_test_results.csv\")\n",
        "truth = pd.read_csv(\"test_samples_with_labels.csv\")\n",
        "\n",
        "LABELS = [\"toxic\",\"severe_toxic\",\"obscene\",\"threat\",\"insult\",\"identity_hate\"]\n",
        "\n",
        "def get_cluster(row):\n",
        "    labs = [lab for lab in LABELS if (lab in row and row[lab] != -1 and row[lab] == 1)]\n",
        "    return \",\".join(labs) if labs else \"none\"\n",
        "\n",
        "truth[\"cluster\"] = truth.apply(get_cluster, axis=1)\n",
        "\n",
        "row_has_valid_label = truth[LABELS].apply(lambda row: any([x != -1 for x in row]), axis=1)\n",
        "truth_eval = truth[row_has_valid_label]\n",
        "\n",
        "df = pred.merge(truth_eval[[\"id\", \"cluster\"]], on=\"id\", how=\"inner\")\n",
        "\n",
        "def is_correct(row):\n",
        "    gt = str(row[\"cluster\"]).strip().lower()\n",
        "    pred = str(row[\"toxicity\"]).strip().lower() if pd.notnull(row[\"toxicity\"]) else \"none\"\n",
        "    gt_set = set([g.strip() for g in gt.split(\",\")]) if gt and gt != \"none\" else set()\n",
        "    if (not gt_set and (not pred or pred == \"none\")) or (pred in gt_set):\n",
        "        return 1\n",
        "    else:\n",
        "        return 0\n",
        "\n",
        "\n",
        "df[\"is_correct\"] = df.apply(is_correct, axis=1)\n",
        "accuracy = df[\"is_correct\"].mean()\n",
        "\n",
        "print(f\"Loose cluster label accuracy (ignoring -1s): {accuracy:.4f}\")"
      ],
      "metadata": {
        "colab": {
          "base_uri": "https://localhost:8080/"
        },
        "id": "v_wxBiR_iOZw",
        "outputId": "d6bb73df-a024-4281-a7c0-0be32201d33d"
      },
      "execution_count": 18,
      "outputs": [
        {
          "output_type": "stream",
          "name": "stdout",
          "text": [
            "Loose cluster label accuracy (ignoring -1s): 0.7475\n"
          ]
        }
      ]
    },
    {
      "cell_type": "code",
      "source": [
        "from sklearn.metrics import confusion_matrix, ConfusionMatrixDisplay\n",
        "import matplotlib.pyplot as plt\n",
        "\n",
        "\n",
        "def cluster_to_binary(cluster):\n",
        "    return 0 if cluster == \"none\" else 1\n",
        "\n",
        "def pred_to_binary(pred):\n",
        "    return 0 if (pred is None or str(pred).strip().lower() in [\"none\", \"nan\", \"\"]) else 1\n",
        "\n",
        "y_true_bin = df[\"cluster\"].apply(cluster_to_binary)\n",
        "y_pred_bin = df[\"toxicity\"].apply(pred_to_binary)\n",
        "\n",
        "cm = confusion_matrix(y_true_bin, y_pred_bin)\n",
        "print(\"\\nBinary confusion matrix ('none'=0, 'any toxic'=1):\")\n",
        "print(pd.DataFrame(cm, index=[\"True none\", \"True toxic\"], columns=[\"Pred none\", \"Pred toxic\"]))\n",
        "\n",
        "disp = ConfusionMatrixDisplay(confusion_matrix=cm, display_labels=[\"none\", \"any toxic\"])\n",
        "disp.plot(cmap=\"Blues\")\n",
        "plt.show()"
      ],
      "metadata": {
        "colab": {
          "base_uri": "https://localhost:8080/",
          "height": 538
        },
        "id": "xcLmm6zJjPfj",
        "outputId": "7cfc3a6f-3e48-45c4-bffb-58b019a9c954"
      },
      "execution_count": 19,
      "outputs": [
        {
          "output_type": "stream",
          "name": "stdout",
          "text": [
            "\n",
            "Binary confusion matrix ('none'=0, 'any toxic'=1):\n",
            "            Pred none  Pred toxic\n",
            "True none         284          78\n",
            "True toxic          7          31\n"
          ]
        },
        {
          "output_type": "display_data",
          "data": {
            "text/plain": [
              "<Figure size 640x480 with 2 Axes>"
            ],
            "image/png": "[encoded data removed]"
          },
          "metadata": {}
        }
      ]
    }
  ]
}